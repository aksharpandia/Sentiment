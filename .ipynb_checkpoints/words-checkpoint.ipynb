{
 "cells": [
  {
   "cell_type": "code",
   "execution_count": 6,
   "metadata": {
    "scrolled": true
   },
   "outputs": [],
   "source": [
    "import pandas as pd"
   ]
  },
  {
   "cell_type": "code",
   "execution_count": 7,
   "metadata": {},
   "outputs": [],
   "source": [
    "\n",
    "#convert LM dictionary to dataframe\n",
    "LM_dict_df = pd.read_csv('LM_dict.csv')\n",
    "LM_dict_df.head()\n",
    "source_col = LM_dict_df['Source']\n",
    "words_10k = {}\n",
    "#gets all words that are 10K/10Q\n",
    "for i in range(len(source_col)):\n",
    "    word_source = LM_dict_df.loc[i,\"Source\"]\n",
    "    if word_source != \"12of12inf\":\n",
    "        index_word = (LM_dict_df.loc[i,\"Word\"])\n",
    "        words_10k[index_word] = 1\n",
    "\n",
    "# need all positive and negative words that are 10K/10Q, next step is to see which one of these are +/-\n",
    "    "
   ]
  },
  {
   "cell_type": "code",
   "execution_count": 8,
   "metadata": {},
   "outputs": [
    {
     "name": "stdout",
     "output_type": "stream",
     "text": [
      "87\n"
     ]
    }
   ],
   "source": [
    "# need all positive and negative words that are 10K/10Q \n",
    "# must use read_excel function since spreadsheet has multiple tabs/sheets so read_csv cannot handle\n",
    "# header = None because no column names here\n",
    "def category_10k_word_list(category):\n",
    "    wordList = pd.read_excel('SentimentWordLists.xlsx', category, header=None)\n",
    "    category_10k_words = {}\n",
    "    for word in wordList[0]:\n",
    "        if word in words_10k:\n",
    "            category_10k_words[word]=category\n",
    "    return category_10k_words\n",
    "\n",
    "\n",
    "\n",
    "negative_10k_words = category_10k_word_list('Positive')\n",
    "positive_10k_words = category_10k_word_list('Negative')\n",
    "positive_and_neg_10k_words = {**negative_10k_words,**positive_10k_words} #merging two dicts, crazy how easy this is\n",
    "print(len(positive_and_neg_10k_words))\n"
   ]
  },
  {
   "cell_type": "code",
   "execution_count": 14,
   "metadata": {},
   "outputs": [
    {
     "name": "stdout",
     "output_type": "stream",
     "text": [
      "{'innovativeness': 2, 'proactively': 2, 'anticompetitive': -2, 'arrearage': -2, 'arrearages': -2, 'aversely': -2, 'chargeoffs': -2, 'clawback': -2, 'cyberattack': -2, 'cyberattacks': -2, 'cyberbullying': -2, 'cybercrime': -2, 'cybercrimes': -2, 'cybercriminal': -2, 'cybercriminals': -2, 'delist': -2, 'delisted': -2, 'delisting': -2, 'delists': -2, 'disallowance': -2, 'disallowances': -2, 'disincentives': -2, 'illiquid': -2, 'illiquidity': -2, 'misbranded': -2, 'mischaracterization': -2, 'misclassification': -2, 'misclassifications': -2, 'misclassified': -2, 'misclassify': -2, 'miscommunication': -2, 'misdated': -2, 'misprice': -2, 'mispricing': -2, 'mispricings': -2, 'nonattainment': -2, 'noncompliant': -2, 'nonproducing': -2, 'nonrenewal': -2, 'overpayment': -2, 'overpayments': -2, 'redefault': -2, 'redefaulted': -2, 'redefaults': -2, 'uncollectable': -2, 'uncollectibility': -2, 'uncollectible': -2, 'uncollectibles': -2, 'uncompetitive': -2, 'undeliverable': -2, 'undelivered': -2, 'undercapitalized': -2, 'underfunded': -2, 'underinsured': -2, 'underperform': -2, 'underperformance': -2, 'underperformed': -2, 'underperforming': -2, 'underperforms': -2, 'underproduced': -2, 'underreporting': -2, 'underutilization': -2, 'underutilized': -2, 'unfavorability': -2, 'unfavourable': -2, 'unforseen': -2, 'unliquidated': -2, 'unmerchantable': -2, 'unmeritorious': -2, 'unpredicted': -2, 'unprofitability': -2, 'unreceptive': -2, 'unrecovered': -2, 'unreimbursed': -2, 'unremedied': -2, 'unsaleable': -2, 'unsellable': -2, 'unstabilized': -2, 'untrusted': -2, 'writedown': -2, 'writedowns': -2, 'writeoff': -2, 'writeoffs': -2}\n"
     ]
    }
   ],
   "source": [
    "#checking which words are scores in LM but not VADER \n",
    "#appending these words using 2/-2 approach (2 for positive, -2 for negative)\n",
    "def not_in_vader(some_words,sentiment_score_pos,sentiment_score_neg):\n",
    "    file = open('vader_lexicon.txt','r')\n",
    "    lex_dict = {}\n",
    "    for line in file: #loading all words and sentiments from VADER lexicon into a dicitonary\n",
    "        if not line:\n",
    "            continue\n",
    "        (word, measure) = line.strip().split('\\t')[0:2]\n",
    "        lex_dict[word] = float(measure)\n",
    "\n",
    "    #creating dictionary to hold words not in vader\n",
    "    not_in_vader = {}\n",
    "    for word in some_words:\n",
    "        lowercase_word = word.lower()\n",
    "        if lowercase_word not in lex_dict: #O(1), lower because LM words are all caps so must compare when cases are same\n",
    "            if some_words[word]=='Positive': #assigning preset scores to each word depending of if +/-\n",
    "                not_in_vader[lowercase_word]=sentiment_score_pos\n",
    "            else:\n",
    "                not_in_vader[lowercase_word]=sentiment_score_neg\n",
    "    return not_in_vader\n",
    "    file.close() #resetting file pointer to the top\n",
    "\n",
    "pos_neg_10k_not_in_vader = not_in_vader(positive_and_neg_10k_words,2,-2)\n",
    "print(pos_neg_10k_not_in_vader)\n",
    "# print(len(pos_neg_10k_not_in_vader))"
   ]
  },
  {
   "cell_type": "code",
   "execution_count": 15,
   "metadata": {},
   "outputs": [],
   "source": [
    "#adding a set of words from a dictionary to the VADER lexicon create a final,complete lexicon\n",
    "\n",
    "\n",
    "with open(\"vader_lexicon.txt\") as f:\n",
    "    with open(\"out.txt\", \"w\") as f1:\n",
    "        for line in f:\n",
    "            f1.write(line) \n",
    "        for (k,v) in pos_neg_10k_not_in_vader.items():\n",
    "            f1.write(k + \"\\t\" + str(v) + '\\n')\n",
    "\n",
    "    "
   ]
  },
  {
   "cell_type": "code",
   "execution_count": null,
   "metadata": {},
   "outputs": [],
   "source": []
  }
 ],
 "metadata": {
  "kernelspec": {
   "display_name": "Python 3",
   "language": "python",
   "name": "python3"
  },
  "language_info": {
   "codemirror_mode": {
    "name": "ipython",
    "version": 3
   },
   "file_extension": ".py",
   "mimetype": "text/x-python",
   "name": "python",
   "nbconvert_exporter": "python",
   "pygments_lexer": "ipython3",
   "version": "3.7.6"
  }
 },
 "nbformat": 4,
 "nbformat_minor": 4
}
